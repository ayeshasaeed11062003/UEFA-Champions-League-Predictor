{
 "cells": [
  {
   "cell_type": "code",
   "execution_count": 2,
   "metadata": {},
   "outputs": [],
   "source": [
    "import pandas as pd"
   ]
  },
  {
   "cell_type": "code",
   "execution_count": 3,
   "metadata": {},
   "outputs": [],
   "source": [
    "matches = pd.read_csv(\"C:\\\\Users\\\\ayesh\\\\OneDrive\\\\Desktop\\\\matches2.csv\")"
   ]
  },
  {
   "cell_type": "code",
   "execution_count": 4,
   "metadata": {},
   "outputs": [
    {
     "data": {
      "text/html": [
       "<div>\n",
       "<style scoped>\n",
       "    .dataframe tbody tr th:only-of-type {\n",
       "        vertical-align: middle;\n",
       "    }\n",
       "\n",
       "    .dataframe tbody tr th {\n",
       "        vertical-align: top;\n",
       "    }\n",
       "\n",
       "    .dataframe thead th {\n",
       "        text-align: right;\n",
       "    }\n",
       "</style>\n",
       "<table border=\"1\" class=\"dataframe\">\n",
       "  <thead>\n",
       "    <tr style=\"text-align: right;\">\n",
       "      <th></th>\n",
       "      <th>Unnamed: 0</th>\n",
       "      <th>Date</th>\n",
       "      <th>Time</th>\n",
       "      <th>Comp</th>\n",
       "      <th>Round</th>\n",
       "      <th>Day</th>\n",
       "      <th>Venue</th>\n",
       "      <th>Result</th>\n",
       "      <th>GF</th>\n",
       "      <th>GA</th>\n",
       "      <th>...</th>\n",
       "      <th>Poss</th>\n",
       "      <th>Attendance</th>\n",
       "      <th>Captain</th>\n",
       "      <th>Formation</th>\n",
       "      <th>Opp Formation</th>\n",
       "      <th>Referee</th>\n",
       "      <th>Match Report</th>\n",
       "      <th>Notes</th>\n",
       "      <th>Season</th>\n",
       "      <th>Team</th>\n",
       "    </tr>\n",
       "  </thead>\n",
       "  <tbody>\n",
       "    <tr>\n",
       "      <th>0</th>\n",
       "      <td>5</td>\n",
       "      <td>2023-09-20</td>\n",
       "      <td>21:00</td>\n",
       "      <td>Champions Lg</td>\n",
       "      <td>Group stage</td>\n",
       "      <td>Wed</td>\n",
       "      <td>Home</td>\n",
       "      <td>W</td>\n",
       "      <td>4</td>\n",
       "      <td>3</td>\n",
       "      <td>...</td>\n",
       "      <td>59.0</td>\n",
       "      <td>75000.0</td>\n",
       "      <td>Joshua Kimmich</td>\n",
       "      <td>4-2-3-1</td>\n",
       "      <td>4-2-3-1</td>\n",
       "      <td>Glenn Nyberg</td>\n",
       "      <td>Match Report</td>\n",
       "      <td>NaN</td>\n",
       "      <td>2024</td>\n",
       "      <td>Bayern Munich</td>\n",
       "    </tr>\n",
       "    <tr>\n",
       "      <th>1</th>\n",
       "      <td>9</td>\n",
       "      <td>2023-10-03</td>\n",
       "      <td>21:00</td>\n",
       "      <td>Champions Lg</td>\n",
       "      <td>Group stage</td>\n",
       "      <td>Tue</td>\n",
       "      <td>Away</td>\n",
       "      <td>W</td>\n",
       "      <td>2</td>\n",
       "      <td>1</td>\n",
       "      <td>...</td>\n",
       "      <td>57.0</td>\n",
       "      <td>35690.0</td>\n",
       "      <td>Joshua Kimmich</td>\n",
       "      <td>4-2-3-1</td>\n",
       "      <td>4-3-3</td>\n",
       "      <td>Orel Grinfeeld</td>\n",
       "      <td>Match Report</td>\n",
       "      <td>NaN</td>\n",
       "      <td>2024</td>\n",
       "      <td>Bayern Munich</td>\n",
       "    </tr>\n",
       "    <tr>\n",
       "      <th>2</th>\n",
       "      <td>12</td>\n",
       "      <td>2023-10-24</td>\n",
       "      <td>19:45</td>\n",
       "      <td>Champions Lg</td>\n",
       "      <td>Group stage</td>\n",
       "      <td>Tue</td>\n",
       "      <td>Away</td>\n",
       "      <td>W</td>\n",
       "      <td>3</td>\n",
       "      <td>1</td>\n",
       "      <td>...</td>\n",
       "      <td>48.0</td>\n",
       "      <td>51776.0</td>\n",
       "      <td>Joshua Kimmich</td>\n",
       "      <td>4-2-3-1</td>\n",
       "      <td>4-2-3-1</td>\n",
       "      <td>Davide Massa</td>\n",
       "      <td>Match Report</td>\n",
       "      <td>NaN</td>\n",
       "      <td>2024</td>\n",
       "      <td>Bayern Munich</td>\n",
       "    </tr>\n",
       "    <tr>\n",
       "      <th>3</th>\n",
       "      <td>16</td>\n",
       "      <td>2023-11-08</td>\n",
       "      <td>21:00</td>\n",
       "      <td>Champions Lg</td>\n",
       "      <td>Group stage</td>\n",
       "      <td>Wed</td>\n",
       "      <td>Home</td>\n",
       "      <td>W</td>\n",
       "      <td>2</td>\n",
       "      <td>1</td>\n",
       "      <td>...</td>\n",
       "      <td>61.0</td>\n",
       "      <td>75000.0</td>\n",
       "      <td>Manuel Neuer</td>\n",
       "      <td>4-2-3-1</td>\n",
       "      <td>4-2-3-1</td>\n",
       "      <td>António Nobre</td>\n",
       "      <td>Match Report</td>\n",
       "      <td>NaN</td>\n",
       "      <td>2024</td>\n",
       "      <td>Bayern Munich</td>\n",
       "    </tr>\n",
       "    <tr>\n",
       "      <th>4</th>\n",
       "      <td>19</td>\n",
       "      <td>2023-11-29</td>\n",
       "      <td>21:00</td>\n",
       "      <td>Champions Lg</td>\n",
       "      <td>Group stage</td>\n",
       "      <td>Wed</td>\n",
       "      <td>Home</td>\n",
       "      <td>D</td>\n",
       "      <td>0</td>\n",
       "      <td>0</td>\n",
       "      <td>...</td>\n",
       "      <td>62.0</td>\n",
       "      <td>75000.0</td>\n",
       "      <td>Manuel Neuer</td>\n",
       "      <td>4-2-3-1</td>\n",
       "      <td>4-3-2-1</td>\n",
       "      <td>Stéphanie Frappart</td>\n",
       "      <td>Match Report</td>\n",
       "      <td>NaN</td>\n",
       "      <td>2024</td>\n",
       "      <td>Bayern Munich</td>\n",
       "    </tr>\n",
       "  </tbody>\n",
       "</table>\n",
       "<p>5 rows × 23 columns</p>\n",
       "</div>"
      ],
      "text/plain": [
       "   Unnamed: 0        Date   Time          Comp        Round  Day Venue Result  \\\n",
       "0           5  2023-09-20  21:00  Champions Lg  Group stage  Wed  Home      W   \n",
       "1           9  2023-10-03  21:00  Champions Lg  Group stage  Tue  Away      W   \n",
       "2          12  2023-10-24  19:45  Champions Lg  Group stage  Tue  Away      W   \n",
       "3          16  2023-11-08  21:00  Champions Lg  Group stage  Wed  Home      W   \n",
       "4          19  2023-11-29  21:00  Champions Lg  Group stage  Wed  Home      D   \n",
       "\n",
       "  GF GA  ...  Poss  Attendance         Captain  Formation  Opp Formation  \\\n",
       "0  4  3  ...  59.0     75000.0  Joshua Kimmich    4-2-3-1        4-2-3-1   \n",
       "1  2  1  ...  57.0     35690.0  Joshua Kimmich    4-2-3-1          4-3-3   \n",
       "2  3  1  ...  48.0     51776.0  Joshua Kimmich    4-2-3-1        4-2-3-1   \n",
       "3  2  1  ...  61.0     75000.0    Manuel Neuer    4-2-3-1        4-2-3-1   \n",
       "4  0  0  ...  62.0     75000.0    Manuel Neuer    4-2-3-1        4-3-2-1   \n",
       "\n",
       "              Referee  Match Report Notes Season           Team  \n",
       "0        Glenn Nyberg  Match Report   NaN   2024  Bayern Munich  \n",
       "1      Orel Grinfeeld  Match Report   NaN   2024  Bayern Munich  \n",
       "2        Davide Massa  Match Report   NaN   2024  Bayern Munich  \n",
       "3       António Nobre  Match Report   NaN   2024  Bayern Munich  \n",
       "4  Stéphanie Frappart  Match Report   NaN   2024  Bayern Munich  \n",
       "\n",
       "[5 rows x 23 columns]"
      ]
     },
     "execution_count": 4,
     "metadata": {},
     "output_type": "execute_result"
    }
   ],
   "source": [
    "matches.head()"
   ]
  },
  {
   "cell_type": "code",
   "execution_count": 5,
   "metadata": {},
   "outputs": [
    {
     "data": {
      "text/html": [
       "<div>\n",
       "<style scoped>\n",
       "    .dataframe tbody tr th:only-of-type {\n",
       "        vertical-align: middle;\n",
       "    }\n",
       "\n",
       "    .dataframe tbody tr th {\n",
       "        vertical-align: top;\n",
       "    }\n",
       "\n",
       "    .dataframe thead th {\n",
       "        text-align: right;\n",
       "    }\n",
       "</style>\n",
       "<table border=\"1\" class=\"dataframe\">\n",
       "  <thead>\n",
       "    <tr style=\"text-align: right;\">\n",
       "      <th></th>\n",
       "      <th>Unnamed: 0</th>\n",
       "      <th>Date</th>\n",
       "      <th>Time</th>\n",
       "      <th>Comp</th>\n",
       "      <th>Round</th>\n",
       "      <th>Day</th>\n",
       "      <th>Venue</th>\n",
       "      <th>Result</th>\n",
       "      <th>GF</th>\n",
       "      <th>GA</th>\n",
       "      <th>...</th>\n",
       "      <th>Poss</th>\n",
       "      <th>Attendance</th>\n",
       "      <th>Captain</th>\n",
       "      <th>Formation</th>\n",
       "      <th>Opp Formation</th>\n",
       "      <th>Referee</th>\n",
       "      <th>Match Report</th>\n",
       "      <th>Notes</th>\n",
       "      <th>Season</th>\n",
       "      <th>Team</th>\n",
       "    </tr>\n",
       "  </thead>\n",
       "  <tbody>\n",
       "    <tr>\n",
       "      <th>137</th>\n",
       "      <td>13</td>\n",
       "      <td>2020-10-27</td>\n",
       "      <td>20:55</td>\n",
       "      <td>Champions Lg</td>\n",
       "      <td>Group stage</td>\n",
       "      <td>Tue</td>\n",
       "      <td>Home</td>\n",
       "      <td>L</td>\n",
       "      <td>1</td>\n",
       "      <td>2</td>\n",
       "      <td>...</td>\n",
       "      <td>36.0</td>\n",
       "      <td>8196.0</td>\n",
       "      <td>Vedran Ćorluka</td>\n",
       "      <td>4-3-2-1</td>\n",
       "      <td>4-2-3-1</td>\n",
       "      <td>István Kovács</td>\n",
       "      <td>Match Report</td>\n",
       "      <td>NaN</td>\n",
       "      <td>2023</td>\n",
       "      <td>Lokomotiv Moscow</td>\n",
       "    </tr>\n",
       "    <tr>\n",
       "      <th>138</th>\n",
       "      <td>15</td>\n",
       "      <td>2020-11-03</td>\n",
       "      <td>20:55</td>\n",
       "      <td>Champions Lg</td>\n",
       "      <td>Group stage</td>\n",
       "      <td>Tue</td>\n",
       "      <td>Home</td>\n",
       "      <td>D</td>\n",
       "      <td>1</td>\n",
       "      <td>1</td>\n",
       "      <td>...</td>\n",
       "      <td>35.0</td>\n",
       "      <td>8147.0</td>\n",
       "      <td>Guilherme Marinato</td>\n",
       "      <td>4-4-2</td>\n",
       "      <td>4-3-2-1</td>\n",
       "      <td>Benoît Bastien</td>\n",
       "      <td>Match Report</td>\n",
       "      <td>NaN</td>\n",
       "      <td>2023</td>\n",
       "      <td>Lokomotiv Moscow</td>\n",
       "    </tr>\n",
       "    <tr>\n",
       "      <th>139</th>\n",
       "      <td>18</td>\n",
       "      <td>2020-11-25</td>\n",
       "      <td>21:00</td>\n",
       "      <td>Champions Lg</td>\n",
       "      <td>Group stage</td>\n",
       "      <td>Wed</td>\n",
       "      <td>Away</td>\n",
       "      <td>D</td>\n",
       "      <td>0</td>\n",
       "      <td>0</td>\n",
       "      <td>...</td>\n",
       "      <td>35.0</td>\n",
       "      <td>NaN</td>\n",
       "      <td>Vedran Ćorluka</td>\n",
       "      <td>4-5-1</td>\n",
       "      <td>4-4-2</td>\n",
       "      <td>Slavko Vinčič</td>\n",
       "      <td>Match Report</td>\n",
       "      <td>NaN</td>\n",
       "      <td>2023</td>\n",
       "      <td>Lokomotiv Moscow</td>\n",
       "    </tr>\n",
       "    <tr>\n",
       "      <th>140</th>\n",
       "      <td>20</td>\n",
       "      <td>2020-12-01</td>\n",
       "      <td>20:55</td>\n",
       "      <td>Champions Lg</td>\n",
       "      <td>Group stage</td>\n",
       "      <td>Tue</td>\n",
       "      <td>Home</td>\n",
       "      <td>L</td>\n",
       "      <td>1</td>\n",
       "      <td>3</td>\n",
       "      <td>...</td>\n",
       "      <td>51.0</td>\n",
       "      <td>6759.0</td>\n",
       "      <td>Vedran Ćorluka</td>\n",
       "      <td>3-4-1-2</td>\n",
       "      <td>4-4-2</td>\n",
       "      <td>Ali Palabıyık</td>\n",
       "      <td>Match Report</td>\n",
       "      <td>NaN</td>\n",
       "      <td>2023</td>\n",
       "      <td>Lokomotiv Moscow</td>\n",
       "    </tr>\n",
       "    <tr>\n",
       "      <th>141</th>\n",
       "      <td>22</td>\n",
       "      <td>2020-12-09</td>\n",
       "      <td>21:00</td>\n",
       "      <td>Champions Lg</td>\n",
       "      <td>Group stage</td>\n",
       "      <td>Wed</td>\n",
       "      <td>Away</td>\n",
       "      <td>L</td>\n",
       "      <td>0</td>\n",
       "      <td>2</td>\n",
       "      <td>...</td>\n",
       "      <td>31.0</td>\n",
       "      <td>NaN</td>\n",
       "      <td>Vedran Ćorluka</td>\n",
       "      <td>4-3-2-1</td>\n",
       "      <td>4-2-3-1</td>\n",
       "      <td>Sandro Schärer</td>\n",
       "      <td>Match Report</td>\n",
       "      <td>NaN</td>\n",
       "      <td>2023</td>\n",
       "      <td>Lokomotiv Moscow</td>\n",
       "    </tr>\n",
       "  </tbody>\n",
       "</table>\n",
       "<p>5 rows × 23 columns</p>\n",
       "</div>"
      ],
      "text/plain": [
       "     Unnamed: 0        Date   Time          Comp        Round  Day Venue  \\\n",
       "137          13  2020-10-27  20:55  Champions Lg  Group stage  Tue  Home   \n",
       "138          15  2020-11-03  20:55  Champions Lg  Group stage  Tue  Home   \n",
       "139          18  2020-11-25  21:00  Champions Lg  Group stage  Wed  Away   \n",
       "140          20  2020-12-01  20:55  Champions Lg  Group stage  Tue  Home   \n",
       "141          22  2020-12-09  21:00  Champions Lg  Group stage  Wed  Away   \n",
       "\n",
       "    Result GF GA  ...  Poss  Attendance             Captain  Formation  \\\n",
       "137      L  1  2  ...  36.0      8196.0      Vedran Ćorluka    4-3-2-1   \n",
       "138      D  1  1  ...  35.0      8147.0  Guilherme Marinato      4-4-2   \n",
       "139      D  0  0  ...  35.0         NaN      Vedran Ćorluka      4-5-1   \n",
       "140      L  1  3  ...  51.0      6759.0      Vedran Ćorluka    3-4-1-2   \n",
       "141      L  0  2  ...  31.0         NaN      Vedran Ćorluka    4-3-2-1   \n",
       "\n",
       "     Opp Formation         Referee  Match Report Notes Season  \\\n",
       "137        4-2-3-1   István Kovács  Match Report   NaN   2023   \n",
       "138        4-3-2-1  Benoît Bastien  Match Report   NaN   2023   \n",
       "139          4-4-2   Slavko Vinčič  Match Report   NaN   2023   \n",
       "140          4-4-2   Ali Palabıyık  Match Report   NaN   2023   \n",
       "141        4-2-3-1  Sandro Schärer  Match Report   NaN   2023   \n",
       "\n",
       "                 Team  \n",
       "137  Lokomotiv Moscow  \n",
       "138  Lokomotiv Moscow  \n",
       "139  Lokomotiv Moscow  \n",
       "140  Lokomotiv Moscow  \n",
       "141  Lokomotiv Moscow  \n",
       "\n",
       "[5 rows x 23 columns]"
      ]
     },
     "execution_count": 5,
     "metadata": {},
     "output_type": "execute_result"
    }
   ],
   "source": [
    "matches.tail()"
   ]
  },
  {
   "cell_type": "code",
   "execution_count": 6,
   "metadata": {},
   "outputs": [
    {
     "data": {
      "text/plain": [
       "(142, 23)"
      ]
     },
     "execution_count": 6,
     "metadata": {},
     "output_type": "execute_result"
    }
   ],
   "source": [
    "matches.shape"
   ]
  },
  {
   "cell_type": "code",
   "execution_count": 7,
   "metadata": {},
   "outputs": [
    {
     "data": {
      "text/plain": [
       "Team\n",
       "Bayern Munich          22\n",
       "FC Copenhagen          14\n",
       "Galatasaray            12\n",
       "Manchester City        12\n",
       "Napoli                 10\n",
       "Rangers                10\n",
       "Liverpool               8\n",
       "Red Bull Salzburg       8\n",
       "Atletico Madrid         8\n",
       "Paris Saint Germain     8\n",
       "Manchester United       6\n",
       "Ajax                    6\n",
       "RB Leipzig              6\n",
       "Club Brugge             6\n",
       "Lokomotiv Moscow        6\n",
       "Name: count, dtype: int64"
      ]
     },
     "execution_count": 7,
     "metadata": {},
     "output_type": "execute_result"
    }
   ],
   "source": [
    "matches['Team'].value_counts()"
   ]
  },
  {
   "cell_type": "code",
   "execution_count": 8,
   "metadata": {},
   "outputs": [
    {
     "data": {
      "text/plain": [
       "Rank              0\n",
       "Date              0\n",
       "Time              0\n",
       "Comp              0\n",
       "Round             0\n",
       "Day               0\n",
       "Venue             0\n",
       "Result            0\n",
       "GF                0\n",
       "GA                0\n",
       "Opponent          0\n",
       "xG               18\n",
       "xGA              18\n",
       "Poss             10\n",
       "Attendance       26\n",
       "Captain           0\n",
       "Formation         0\n",
       "Opp Formation     0\n",
       "Referee           0\n",
       "Match Report      0\n",
       "Notes            96\n",
       "Season            0\n",
       "Team              0\n",
       "dtype: int64"
      ]
     },
     "execution_count": 8,
     "metadata": {},
     "output_type": "execute_result"
    }
   ],
   "source": [
    "matches = matches.rename(columns={'Unnamed: 0': 'Rank'})\n",
    "matches.isnull().sum()"
   ]
  },
  {
   "cell_type": "markdown",
   "metadata": {},
   "source": [
    "Rank: team position in the leage, Comp: Champions League, Round: Group Stage, Round of 16, Quarter Finals, Semi Finals, Finals etc, Venue: home/away for that team, result: win, loss, draw, gf: goals for (that team), ga: (goals against), opponent: opponent team, xG: expected goals (for that team), xGA: expected goals against (that team), Poss: posession of the ball, Attendance: audience number, captain: team captain, formation: team formation (for that team), Opp Formation: Opposing formation, Referee: ref name, Match report and notes: null (not provided on fbref), season: 2023-2024 (2024) or 2022-2023 (2023), team: team referred to"
   ]
  },
  {
   "cell_type": "markdown",
   "metadata": {},
   "source": [
    "dropped notes also"
   ]
  },
  {
   "cell_type": "code",
   "execution_count": 9,
   "metadata": {},
   "outputs": [],
   "source": [
    "columns_with_null = ['Attendance', 'xG', 'xGA', 'Poss']\n",
    "matches = matches.dropna(subset=columns_with_null)"
   ]
  },
  {
   "cell_type": "code",
   "execution_count": 10,
   "metadata": {},
   "outputs": [
    {
     "data": {
      "text/html": [
       "<div>\n",
       "<style scoped>\n",
       "    .dataframe tbody tr th:only-of-type {\n",
       "        vertical-align: middle;\n",
       "    }\n",
       "\n",
       "    .dataframe tbody tr th {\n",
       "        vertical-align: top;\n",
       "    }\n",
       "\n",
       "    .dataframe thead th {\n",
       "        text-align: right;\n",
       "    }\n",
       "</style>\n",
       "<table border=\"1\" class=\"dataframe\">\n",
       "  <thead>\n",
       "    <tr style=\"text-align: right;\">\n",
       "      <th></th>\n",
       "      <th>Rank</th>\n",
       "      <th>Date</th>\n",
       "      <th>Time</th>\n",
       "      <th>Comp</th>\n",
       "      <th>Round</th>\n",
       "      <th>Day</th>\n",
       "      <th>Venue</th>\n",
       "      <th>Result</th>\n",
       "      <th>GF</th>\n",
       "      <th>GA</th>\n",
       "      <th>...</th>\n",
       "      <th>Poss</th>\n",
       "      <th>Attendance</th>\n",
       "      <th>Captain</th>\n",
       "      <th>Formation</th>\n",
       "      <th>Opp Formation</th>\n",
       "      <th>Referee</th>\n",
       "      <th>Match Report</th>\n",
       "      <th>Notes</th>\n",
       "      <th>Season</th>\n",
       "      <th>Team</th>\n",
       "    </tr>\n",
       "  </thead>\n",
       "  <tbody>\n",
       "    <tr>\n",
       "      <th>0</th>\n",
       "      <td>5</td>\n",
       "      <td>2023-09-20</td>\n",
       "      <td>21:00</td>\n",
       "      <td>Champions Lg</td>\n",
       "      <td>Group stage</td>\n",
       "      <td>Wed</td>\n",
       "      <td>Home</td>\n",
       "      <td>W</td>\n",
       "      <td>4</td>\n",
       "      <td>3</td>\n",
       "      <td>...</td>\n",
       "      <td>59.0</td>\n",
       "      <td>75000.0</td>\n",
       "      <td>Joshua Kimmich</td>\n",
       "      <td>4-2-3-1</td>\n",
       "      <td>4-2-3-1</td>\n",
       "      <td>Glenn Nyberg</td>\n",
       "      <td>Match Report</td>\n",
       "      <td>NaN</td>\n",
       "      <td>2024</td>\n",
       "      <td>Bayern Munich</td>\n",
       "    </tr>\n",
       "    <tr>\n",
       "      <th>1</th>\n",
       "      <td>9</td>\n",
       "      <td>2023-10-03</td>\n",
       "      <td>21:00</td>\n",
       "      <td>Champions Lg</td>\n",
       "      <td>Group stage</td>\n",
       "      <td>Tue</td>\n",
       "      <td>Away</td>\n",
       "      <td>W</td>\n",
       "      <td>2</td>\n",
       "      <td>1</td>\n",
       "      <td>...</td>\n",
       "      <td>57.0</td>\n",
       "      <td>35690.0</td>\n",
       "      <td>Joshua Kimmich</td>\n",
       "      <td>4-2-3-1</td>\n",
       "      <td>4-3-3</td>\n",
       "      <td>Orel Grinfeeld</td>\n",
       "      <td>Match Report</td>\n",
       "      <td>NaN</td>\n",
       "      <td>2024</td>\n",
       "      <td>Bayern Munich</td>\n",
       "    </tr>\n",
       "    <tr>\n",
       "      <th>2</th>\n",
       "      <td>12</td>\n",
       "      <td>2023-10-24</td>\n",
       "      <td>19:45</td>\n",
       "      <td>Champions Lg</td>\n",
       "      <td>Group stage</td>\n",
       "      <td>Tue</td>\n",
       "      <td>Away</td>\n",
       "      <td>W</td>\n",
       "      <td>3</td>\n",
       "      <td>1</td>\n",
       "      <td>...</td>\n",
       "      <td>48.0</td>\n",
       "      <td>51776.0</td>\n",
       "      <td>Joshua Kimmich</td>\n",
       "      <td>4-2-3-1</td>\n",
       "      <td>4-2-3-1</td>\n",
       "      <td>Davide Massa</td>\n",
       "      <td>Match Report</td>\n",
       "      <td>NaN</td>\n",
       "      <td>2024</td>\n",
       "      <td>Bayern Munich</td>\n",
       "    </tr>\n",
       "    <tr>\n",
       "      <th>3</th>\n",
       "      <td>16</td>\n",
       "      <td>2023-11-08</td>\n",
       "      <td>21:00</td>\n",
       "      <td>Champions Lg</td>\n",
       "      <td>Group stage</td>\n",
       "      <td>Wed</td>\n",
       "      <td>Home</td>\n",
       "      <td>W</td>\n",
       "      <td>2</td>\n",
       "      <td>1</td>\n",
       "      <td>...</td>\n",
       "      <td>61.0</td>\n",
       "      <td>75000.0</td>\n",
       "      <td>Manuel Neuer</td>\n",
       "      <td>4-2-3-1</td>\n",
       "      <td>4-2-3-1</td>\n",
       "      <td>António Nobre</td>\n",
       "      <td>Match Report</td>\n",
       "      <td>NaN</td>\n",
       "      <td>2024</td>\n",
       "      <td>Bayern Munich</td>\n",
       "    </tr>\n",
       "    <tr>\n",
       "      <th>4</th>\n",
       "      <td>19</td>\n",
       "      <td>2023-11-29</td>\n",
       "      <td>21:00</td>\n",
       "      <td>Champions Lg</td>\n",
       "      <td>Group stage</td>\n",
       "      <td>Wed</td>\n",
       "      <td>Home</td>\n",
       "      <td>D</td>\n",
       "      <td>0</td>\n",
       "      <td>0</td>\n",
       "      <td>...</td>\n",
       "      <td>62.0</td>\n",
       "      <td>75000.0</td>\n",
       "      <td>Manuel Neuer</td>\n",
       "      <td>4-2-3-1</td>\n",
       "      <td>4-3-2-1</td>\n",
       "      <td>Stéphanie Frappart</td>\n",
       "      <td>Match Report</td>\n",
       "      <td>NaN</td>\n",
       "      <td>2024</td>\n",
       "      <td>Bayern Munich</td>\n",
       "    </tr>\n",
       "  </tbody>\n",
       "</table>\n",
       "<p>5 rows × 23 columns</p>\n",
       "</div>"
      ],
      "text/plain": [
       "   Rank        Date   Time          Comp        Round  Day Venue Result GF GA  \\\n",
       "0     5  2023-09-20  21:00  Champions Lg  Group stage  Wed  Home      W  4  3   \n",
       "1     9  2023-10-03  21:00  Champions Lg  Group stage  Tue  Away      W  2  1   \n",
       "2    12  2023-10-24  19:45  Champions Lg  Group stage  Tue  Away      W  3  1   \n",
       "3    16  2023-11-08  21:00  Champions Lg  Group stage  Wed  Home      W  2  1   \n",
       "4    19  2023-11-29  21:00  Champions Lg  Group stage  Wed  Home      D  0  0   \n",
       "\n",
       "   ...  Poss  Attendance         Captain  Formation  Opp Formation  \\\n",
       "0  ...  59.0     75000.0  Joshua Kimmich    4-2-3-1        4-2-3-1   \n",
       "1  ...  57.0     35690.0  Joshua Kimmich    4-2-3-1          4-3-3   \n",
       "2  ...  48.0     51776.0  Joshua Kimmich    4-2-3-1        4-2-3-1   \n",
       "3  ...  61.0     75000.0    Manuel Neuer    4-2-3-1        4-2-3-1   \n",
       "4  ...  62.0     75000.0    Manuel Neuer    4-2-3-1        4-3-2-1   \n",
       "\n",
       "              Referee  Match Report Notes Season           Team  \n",
       "0        Glenn Nyberg  Match Report   NaN   2024  Bayern Munich  \n",
       "1      Orel Grinfeeld  Match Report   NaN   2024  Bayern Munich  \n",
       "2        Davide Massa  Match Report   NaN   2024  Bayern Munich  \n",
       "3       António Nobre  Match Report   NaN   2024  Bayern Munich  \n",
       "4  Stéphanie Frappart  Match Report   NaN   2024  Bayern Munich  \n",
       "\n",
       "[5 rows x 23 columns]"
      ]
     },
     "execution_count": 10,
     "metadata": {},
     "output_type": "execute_result"
    }
   ],
   "source": [
    "matches.head()"
   ]
  },
  {
   "cell_type": "code",
   "execution_count": 11,
   "metadata": {},
   "outputs": [
    {
     "data": {
      "text/plain": [
       "(100, 23)"
      ]
     },
     "execution_count": 11,
     "metadata": {},
     "output_type": "execute_result"
    }
   ],
   "source": [
    "matches.shape"
   ]
  },
  {
   "cell_type": "code",
   "execution_count": 12,
   "metadata": {},
   "outputs": [
    {
     "name": "stdout",
     "output_type": "stream",
     "text": [
      "   Rank  Date  Time  Comp  Round  Day  Venue  Result  GF  GA  ...  Poss  \\\n",
      "0     5    27     6     0      0    1      1       2   4   3  ...  59.0   \n",
      "1     9    28     6     0      0    0      0       2   2   1  ...  57.0   \n",
      "2    12    29     2     0      0    0      0       2   3   1  ...  48.0   \n",
      "3    16    30     6     0      0    1      1       2   2   1  ...  61.0   \n",
      "4    19    31     6     0      0    1      1       0   0   0  ...  62.0   \n",
      "\n",
      "   Attendance  Captain  Formation  Opp Formation  Referee  Match Report  \\\n",
      "0     75000.0       13          4              4       19             0   \n",
      "1     35690.0       13          4              6       26             0   \n",
      "2     51776.0       13          4              4       13             0   \n",
      "3     75000.0       16          4              4        5             0   \n",
      "4     75000.0       16          4              5       31             0   \n",
      "\n",
      "   Notes  Season  Team  \n",
      "0      7    2024     2  \n",
      "1      7    2024     2  \n",
      "2      7    2024     2  \n",
      "3      7    2024     2  \n",
      "4      7    2024     2  \n",
      "\n",
      "[5 rows x 23 columns]\n"
     ]
    }
   ],
   "source": [
    "from sklearn.preprocessing import LabelEncoder\n",
    "\n",
    "categorical_columns = matches.select_dtypes(include=['object']).columns\n",
    "\n",
    "label_encoders = {}\n",
    "for column in categorical_columns:\n",
    "    le = LabelEncoder()\n",
    "    matches[column] = le.fit_transform(matches[column].astype(str))\n",
    "    label_encoders[column] = le  # saving the encoder for later use if needed\n",
    "\n",
    "print(matches.head())"
   ]
  },
  {
   "cell_type": "code",
   "execution_count": 13,
   "metadata": {},
   "outputs": [],
   "source": [
    "matches = matches.drop(columns=['Comp', 'Match Report'])"
   ]
  },
  {
   "cell_type": "code",
   "execution_count": 14,
   "metadata": {},
   "outputs": [
    {
     "data": {
      "text/html": [
       "<div>\n",
       "<style scoped>\n",
       "    .dataframe tbody tr th:only-of-type {\n",
       "        vertical-align: middle;\n",
       "    }\n",
       "\n",
       "    .dataframe tbody tr th {\n",
       "        vertical-align: top;\n",
       "    }\n",
       "\n",
       "    .dataframe thead th {\n",
       "        text-align: right;\n",
       "    }\n",
       "</style>\n",
       "<table border=\"1\" class=\"dataframe\">\n",
       "  <thead>\n",
       "    <tr style=\"text-align: right;\">\n",
       "      <th></th>\n",
       "      <th>Rank</th>\n",
       "      <th>Date</th>\n",
       "      <th>Time</th>\n",
       "      <th>Round</th>\n",
       "      <th>Day</th>\n",
       "      <th>Venue</th>\n",
       "      <th>Result</th>\n",
       "      <th>GF</th>\n",
       "      <th>GA</th>\n",
       "      <th>Opponent</th>\n",
       "      <th>...</th>\n",
       "      <th>xGA</th>\n",
       "      <th>Poss</th>\n",
       "      <th>Attendance</th>\n",
       "      <th>Captain</th>\n",
       "      <th>Formation</th>\n",
       "      <th>Opp Formation</th>\n",
       "      <th>Referee</th>\n",
       "      <th>Notes</th>\n",
       "      <th>Season</th>\n",
       "      <th>Team</th>\n",
       "    </tr>\n",
       "  </thead>\n",
       "  <tbody>\n",
       "    <tr>\n",
       "      <th>0</th>\n",
       "      <td>5</td>\n",
       "      <td>27</td>\n",
       "      <td>6</td>\n",
       "      <td>0</td>\n",
       "      <td>1</td>\n",
       "      <td>1</td>\n",
       "      <td>2</td>\n",
       "      <td>4</td>\n",
       "      <td>3</td>\n",
       "      <td>9</td>\n",
       "      <td>...</td>\n",
       "      <td>1.7</td>\n",
       "      <td>59.0</td>\n",
       "      <td>75000.0</td>\n",
       "      <td>13</td>\n",
       "      <td>4</td>\n",
       "      <td>4</td>\n",
       "      <td>19</td>\n",
       "      <td>7</td>\n",
       "      <td>2024</td>\n",
       "      <td>2</td>\n",
       "    </tr>\n",
       "    <tr>\n",
       "      <th>1</th>\n",
       "      <td>9</td>\n",
       "      <td>28</td>\n",
       "      <td>6</td>\n",
       "      <td>0</td>\n",
       "      <td>0</td>\n",
       "      <td>0</td>\n",
       "      <td>2</td>\n",
       "      <td>2</td>\n",
       "      <td>1</td>\n",
       "      <td>5</td>\n",
       "      <td>...</td>\n",
       "      <td>0.9</td>\n",
       "      <td>57.0</td>\n",
       "      <td>35690.0</td>\n",
       "      <td>13</td>\n",
       "      <td>4</td>\n",
       "      <td>6</td>\n",
       "      <td>26</td>\n",
       "      <td>7</td>\n",
       "      <td>2024</td>\n",
       "      <td>2</td>\n",
       "    </tr>\n",
       "    <tr>\n",
       "      <th>2</th>\n",
       "      <td>12</td>\n",
       "      <td>29</td>\n",
       "      <td>2</td>\n",
       "      <td>0</td>\n",
       "      <td>0</td>\n",
       "      <td>0</td>\n",
       "      <td>2</td>\n",
       "      <td>3</td>\n",
       "      <td>1</td>\n",
       "      <td>20</td>\n",
       "      <td>...</td>\n",
       "      <td>2.7</td>\n",
       "      <td>48.0</td>\n",
       "      <td>51776.0</td>\n",
       "      <td>13</td>\n",
       "      <td>4</td>\n",
       "      <td>4</td>\n",
       "      <td>13</td>\n",
       "      <td>7</td>\n",
       "      <td>2024</td>\n",
       "      <td>2</td>\n",
       "    </tr>\n",
       "    <tr>\n",
       "      <th>3</th>\n",
       "      <td>16</td>\n",
       "      <td>30</td>\n",
       "      <td>6</td>\n",
       "      <td>0</td>\n",
       "      <td>1</td>\n",
       "      <td>1</td>\n",
       "      <td>2</td>\n",
       "      <td>2</td>\n",
       "      <td>1</td>\n",
       "      <td>20</td>\n",
       "      <td>...</td>\n",
       "      <td>0.7</td>\n",
       "      <td>61.0</td>\n",
       "      <td>75000.0</td>\n",
       "      <td>16</td>\n",
       "      <td>4</td>\n",
       "      <td>4</td>\n",
       "      <td>5</td>\n",
       "      <td>7</td>\n",
       "      <td>2024</td>\n",
       "      <td>2</td>\n",
       "    </tr>\n",
       "    <tr>\n",
       "      <th>4</th>\n",
       "      <td>19</td>\n",
       "      <td>31</td>\n",
       "      <td>6</td>\n",
       "      <td>0</td>\n",
       "      <td>1</td>\n",
       "      <td>1</td>\n",
       "      <td>0</td>\n",
       "      <td>0</td>\n",
       "      <td>0</td>\n",
       "      <td>5</td>\n",
       "      <td>...</td>\n",
       "      <td>0.7</td>\n",
       "      <td>62.0</td>\n",
       "      <td>75000.0</td>\n",
       "      <td>16</td>\n",
       "      <td>4</td>\n",
       "      <td>5</td>\n",
       "      <td>31</td>\n",
       "      <td>7</td>\n",
       "      <td>2024</td>\n",
       "      <td>2</td>\n",
       "    </tr>\n",
       "  </tbody>\n",
       "</table>\n",
       "<p>5 rows × 21 columns</p>\n",
       "</div>"
      ],
      "text/plain": [
       "   Rank  Date  Time  Round  Day  Venue  Result  GF  GA  Opponent  ...  xGA  \\\n",
       "0     5    27     6      0    1      1       2   4   3         9  ...  1.7   \n",
       "1     9    28     6      0    0      0       2   2   1         5  ...  0.9   \n",
       "2    12    29     2      0    0      0       2   3   1        20  ...  2.7   \n",
       "3    16    30     6      0    1      1       2   2   1        20  ...  0.7   \n",
       "4    19    31     6      0    1      1       0   0   0         5  ...  0.7   \n",
       "\n",
       "   Poss  Attendance  Captain  Formation  Opp Formation  Referee  Notes  \\\n",
       "0  59.0     75000.0       13          4              4       19      7   \n",
       "1  57.0     35690.0       13          4              6       26      7   \n",
       "2  48.0     51776.0       13          4              4       13      7   \n",
       "3  61.0     75000.0       16          4              4        5      7   \n",
       "4  62.0     75000.0       16          4              5       31      7   \n",
       "\n",
       "   Season  Team  \n",
       "0    2024     2  \n",
       "1    2024     2  \n",
       "2    2024     2  \n",
       "3    2024     2  \n",
       "4    2024     2  \n",
       "\n",
       "[5 rows x 21 columns]"
      ]
     },
     "execution_count": 14,
     "metadata": {},
     "output_type": "execute_result"
    }
   ],
   "source": [
    "matches.head()"
   ]
  },
  {
   "cell_type": "code",
   "execution_count": 15,
   "metadata": {},
   "outputs": [],
   "source": [
    "import warnings\n",
    "warnings.filterwarnings('ignore')"
   ]
  },
  {
   "cell_type": "markdown",
   "metadata": {},
   "source": [
    "We selected a Random Forest Classifier here initially since the data contained more categorical than numerical data."
   ]
  },
  {
   "cell_type": "code",
   "execution_count": 16,
   "metadata": {},
   "outputs": [
    {
     "name": "stdout",
     "output_type": "stream",
     "text": [
      "              precision    recall  f1-score   support\n",
      "\n",
      "           0       0.95      1.00      0.97        19\n",
      "           1       0.00      0.00      0.00         1\n",
      "\n",
      "    accuracy                           0.95        20\n",
      "   macro avg       0.47      0.50      0.49        20\n",
      "weighted avg       0.90      0.95      0.93        20\n",
      "\n"
     ]
    }
   ],
   "source": [
    "from sklearn.model_selection import train_test_split\n",
    "from sklearn.ensemble import RandomForestClassifier\n",
    "from sklearn.metrics import classification_report\n",
    "\n",
    "X = matches[['GF', 'GA', 'xG', 'xGA']]\n",
    "y = (matches['Formation'] == 1).astype(int)  # 1 for winners, 0 otherwise\n",
    "\n",
    "X_train, X_test, y_train, y_test = train_test_split(X, y, test_size=0.2, random_state=42)\n",
    "model = RandomForestClassifier(random_state=42)\n",
    "model.fit(X_train, y_train)\n",
    "y_pred = model.predict(X_test)\n",
    "print(classification_report(y_test, y_pred))"
   ]
  },
  {
   "cell_type": "markdown",
   "metadata": {},
   "source": [
    "The model achieved an accuracy of 95%, indicating a reasonably strong ability to predict match outcomes"
   ]
  },
  {
   "cell_type": "markdown",
   "metadata": {},
   "source": [
    "Match Outcome Prediction:"
   ]
  },
  {
   "cell_type": "markdown",
   "metadata": {},
   "source": [
    "Selected a logistic regression model for its simplicity and interpretability, suitable for predicting binary outcomes like win/loss/draw.\n",
    "Features such as expected goals (xG), possession (Poss), and venue type were included since they significantly influence match outcomes"
   ]
  },
  {
   "cell_type": "code",
   "execution_count": 17,
   "metadata": {},
   "outputs": [
    {
     "name": "stdout",
     "output_type": "stream",
     "text": [
      "Classification Report:\n",
      "               precision    recall  f1-score   support\n",
      "\n",
      "           0       1.00      0.29      0.44         7\n",
      "           1       0.64      0.88      0.74         8\n",
      "           2       0.71      1.00      0.83         5\n",
      "\n",
      "    accuracy                           0.70        20\n",
      "   macro avg       0.78      0.72      0.67        20\n",
      "weighted avg       0.78      0.70      0.66        20\n",
      "\n",
      "Confusion Matrix:\n",
      " [[2 4 1]\n",
      " [0 7 1]\n",
      " [0 0 5]]\n"
     ]
    }
   ],
   "source": [
    "from sklearn.linear_model import LogisticRegression\n",
    "from sklearn.metrics import classification_report, confusion_matrix\n",
    "from sklearn.preprocessing import StandardScaler\n",
    "\n",
    "\n",
    "X = matches.drop(columns=['Result', 'GF', 'GA', 'Attendance'])\n",
    "y_result = matches['Result']  # for outcome prediction\n",
    "y_goals = matches['GF']       # for goal prediction\n",
    "y_attendance = matches['Attendance']  # for attendance prediction\n",
    "\n",
    "X_train, X_test, y_train_result, y_test_result = train_test_split(X, y_result, test_size=0.2, random_state=42)\n",
    "X_train_goals, X_test_goals, y_train_goals, y_test_goals = train_test_split(X, y_goals, test_size=0.2, random_state=42)\n",
    "X_train_att, X_test_att, y_train_att, y_test_att = train_test_split(X, y_attendance, test_size=0.2, random_state=42)\n",
    "\n",
    "scaler = StandardScaler()\n",
    "X_train = scaler.fit_transform(X_train)\n",
    "X_test = scaler.transform(X_test)\n",
    "\n",
    "model_result = LogisticRegression(max_iter=1000)\n",
    "model_result.fit(X_train, y_train_result)\n",
    "\n",
    "y_pred_result = model_result.predict(X_test)\n",
    "print(\"Classification Report:\\n\", classification_report(y_test_result, y_pred_result))\n",
    "print(\"Confusion Matrix:\\n\", confusion_matrix(y_test_result, y_pred_result))"
   ]
  },
  {
   "cell_type": "markdown",
   "metadata": {},
   "source": [
    "The model achieved an accuracy of 70%, indicating a weakened ability to predict match outcomes as compared to random forest\n",
    "While the precision for predicting wins was high, recall was lower at only 29%, this suggests that some wins were misclassified"
   ]
  },
  {
   "cell_type": "markdown",
   "metadata": {},
   "source": [
    "Improvements could be made using hyperparameter tuning or incorporating additional features to take into account. Expected goals (xG) emerged as the most predictive feature, aligning with its strong correlation to actual goals scored. Teams with higher possession percentages and xG are more likely to win, emphasizing the importance of creating quality scoring opportunities"
   ]
  },
  {
   "cell_type": "markdown",
   "metadata": {},
   "source": [
    "Goal prediction:"
   ]
  },
  {
   "cell_type": "code",
   "execution_count": 18,
   "metadata": {},
   "outputs": [
    {
     "name": "stdout",
     "output_type": "stream",
     "text": [
      "Mean Squared Error: 1.4925050000000002\n"
     ]
    }
   ],
   "source": [
    "from sklearn.ensemble import RandomForestRegressor\n",
    "from sklearn.metrics import mean_squared_error\n",
    "\n",
    "model_goals = RandomForestRegressor(n_estimators=100, random_state=42)\n",
    "model_goals.fit(X_train_goals, y_train_goals)\n",
    "\n",
    "y_pred_goals = model_goals.predict(X_test_goals)\n",
    "print(\"Mean Squared Error:\", mean_squared_error(y_test_goals, y_pred_goals))"
   ]
  },
  {
   "cell_type": "markdown",
   "metadata": {},
   "source": [
    "attendance prediction"
   ]
  },
  {
   "cell_type": "code",
   "execution_count": 19,
   "metadata": {},
   "outputs": [
    {
     "name": "stdout",
     "output_type": "stream",
     "text": [
      "Mean Squared Error for Attendance: 191426778.36665094\n"
     ]
    }
   ],
   "source": [
    "from sklearn.linear_model import LinearRegression\n",
    "\n",
    "model_att = LinearRegression()\n",
    "model_att.fit(X_train_att, y_train_att)\n",
    "\n",
    "y_pred_att = model_att.predict(X_test_att)\n",
    "print(\"Mean Squared Error for Attendance:\", mean_squared_error(y_test_att, y_pred_att))"
   ]
  },
  {
   "cell_type": "code",
   "execution_count": 20,
   "metadata": {},
   "outputs": [
    {
     "data": {
      "image/png": "[encoded data removed]",
      "text/plain": [
       "<Figure size 640x480 with 1 Axes>"
      ]
     },
     "metadata": {},
     "output_type": "display_data"
    }
   ],
   "source": [
    "from sklearn.cluster import KMeans\n",
    "import matplotlib.pyplot as plt\n",
    "import seaborn as sns\n",
    "\n",
    "features = matches[['xG', 'xGA', 'Poss']]\n",
    "\n",
    "kmeans = KMeans(n_clusters=3, random_state=42)\n",
    "matches['Cluster'] = kmeans.fit_predict(features)\n",
    "\n",
    "sns.scatterplot(data=matches, x='xG', y='xGA', hue='Cluster', palette='viridis')\n",
    "plt.title(\"Clustering Teams by xG and xGA\")\n",
    "plt.show()"
   ]
  },
  {
   "cell_type": "markdown",
   "metadata": {},
   "source": [
    "No evident clustering visible between individual features, however at a closer look at the features, some can very well be clustered together, such as attendance and xG."
   ]
  },
  {
   "cell_type": "code",
   "execution_count": 21,
   "metadata": {},
   "outputs": [],
   "source": [
    "# rolling average for xG and xGA (last 15 matches)\n",
    "matches['xG_rolling'] = matches['xG'].rolling(window=15).mean()\n",
    "matches['xGA_rolling'] = matches['xGA'].rolling(window=15).mean()\n",
    "\n",
    "# form streak (last 15 results)\n",
    "matches['Points'] = matches['Result'].map({'W': 3, 'D': 1, 'L': 0})\n",
    "matches['Streak'] = matches['Points'].rolling(window=15).sum()\n",
    "\n",
    "# venue factor\n",
    "matches['Home_Away_Factor'] = matches['Venue'].map({'Home': 1, 'Away': 0})"
   ]
  },
  {
   "cell_type": "markdown",
   "metadata": {},
   "source": [
    "the venue factor can be analysed further, inspecting whether playing at home affects team performance"
   ]
  },
  {
   "cell_type": "code",
   "execution_count": 22,
   "metadata": {},
   "outputs": [
    {
     "data": {
      "image/png": "[encoded data removed]",
      "text/plain": [
       "<Figure size 1000x600 with 1 Axes>"
      ]
     },
     "metadata": {},
     "output_type": "display_data"
    },
    {
     "name": "stdout",
     "output_type": "stream",
     "text": [
      "Correlation between Rolling xG and xGA:\n",
      "              xG_rolling  xGA_rolling\n",
      "xG_rolling     1.000000    -0.400504\n",
      "xGA_rolling   -0.400504     1.000000\n"
     ]
    }
   ],
   "source": [
    "plt.figure(figsize=(10, 6))\n",
    "plt.plot(matches['xG_rolling'], label='Rolling xG', color='blue')\n",
    "plt.plot(matches['xGA_rolling'], label='Rolling xGA', color='red')\n",
    "plt.title(\"Rolling Averages of xG and xGA\")\n",
    "plt.legend()\n",
    "plt.show()\n",
    "\n",
    "rolling_corr = matches[['xG_rolling', 'xGA_rolling']].corr()\n",
    "print(\"Correlation between Rolling xG and xGA:\\n\", rolling_corr)"
   ]
  },
  {
   "cell_type": "code",
   "execution_count": 47,
   "metadata": {},
   "outputs": [
    {
     "data": {
      "image/png": "[encoded data removed]",
      "text/plain": [
       "<Figure size 640x480 with 1 Axes>"
      ]
     },
     "metadata": {},
     "output_type": "display_data"
    },
    {
     "data": {
      "text/plain": [
       "Result\n",
       "0   -0.026316\n",
       "1    0.260976\n",
       "2   -0.632500\n",
       "Name: xG_vs_GF, dtype: float64"
      ]
     },
     "execution_count": 47,
     "metadata": {},
     "output_type": "execute_result"
    }
   ],
   "source": [
    "# calculating and plotting the difference between xG and actual goals\n",
    "matches['xG_vs_GF'] = matches['xG'] - matches['GF']\n",
    "\n",
    "sns.histplot(matches['xG_vs_GF'], kde=True)\n",
    "plt.title(\"Difference Between xG and Actual Goals (GF)\")\n",
    "plt.xlabel(\"xG - GF\")\n",
    "plt.show()\n",
    "\n",
    "# group by result to see the relationship\n",
    "matches.groupby('Result')['xG_vs_GF'].mean()"
   ]
  },
  {
   "cell_type": "markdown",
   "metadata": {},
   "source": [
    "Balancing the dataset or implementing stratified sampling could improve performance for underrepresented outcomes"
   ]
  },
  {
   "cell_type": "code",
   "execution_count": 48,
   "metadata": {},
   "outputs": [
    {
     "name": "stdout",
     "output_type": "stream",
     "text": [
      "Correlation between xG, xGA, and Attendance:\n",
      "                   xG       xGA  Attendance\n",
      "xG          1.000000 -0.296784   -0.017352\n",
      "xGA        -0.296784  1.000000   -0.044654\n",
      "Attendance -0.017352 -0.044654    1.000000\n"
     ]
    },
    {
     "data": {
      "image/png": "[encoded data removed]",
      "text/plain": [
       "<Figure size 640x480 with 2 Axes>"
      ]
     },
     "metadata": {},
     "output_type": "display_data"
    }
   ],
   "source": [
    "corr_matrix = matches[['xG', 'xGA', 'Attendance']].corr()\n",
    "print(\"Correlation between xG, xGA, and Attendance:\\n\", corr_matrix)\n",
    "\n",
    "sns.heatmap(corr_matrix, annot=True, cmap=\"coolwarm\", fmt=\".2f\")\n",
    "plt.title(\"Correlation Matrix: xG, xGA, and Attendance\")\n",
    "plt.show()"
   ]
  },
  {
   "cell_type": "code",
   "execution_count": 50,
   "metadata": {},
   "outputs": [
    {
     "data": {
      "image/png": "[encoded data removed]",
      "text/plain": [
       "<Figure size 1000x600 with 1 Axes>"
      ]
     },
     "metadata": {},
     "output_type": "display_data"
    }
   ],
   "source": [
    "# grouping by month or season for trend analysis\n",
    "matches['Month'] = pd.to_datetime(matches['Date']).dt.month\n",
    "monthly_performance = matches.groupby('Season')[['xG', 'xGA', 'GF', 'GA']].mean()\n",
    "\n",
    "monthly_performance.plot(figsize=(10, 6))\n",
    "plt.title(\"Team Performance Trends Over Months\")\n",
    "plt.ylabel(\"Performance Metrics\")\n",
    "plt.show()"
   ]
  },
  {
   "cell_type": "markdown",
   "metadata": {},
   "source": [
    "While both models achieved similar accuracy, the Random Forest exhibited better recall and robustness to feature interactions"
   ]
  },
  {
   "cell_type": "markdown",
   "metadata": {},
   "source": [
    "The interpretability of Logistic Regression is a trade-off for the higher complexity and performance of ensemble models like Random Forest."
   ]
  }
 ],
 "metadata": {
  "kernelspec": {
   "display_name": "Python 3",
   "language": "python",
   "name": "python3"
  },
  "language_info": {
   "codemirror_mode": {
    "name": "ipython",
    "version": 3
   },
   "file_extension": ".py",
   "mimetype": "text/x-python",
   "name": "python",
   "nbconvert_exporter": "python",
   "pygments_lexer": "ipython3",
   "version": "3.13.0"
  }
 },
 "nbformat": 4,
 "nbformat_minor": 2
}
